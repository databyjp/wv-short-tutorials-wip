{
 "cells": [
  {
   "cell_type": "code",
   "execution_count": 1,
   "metadata": {},
   "outputs": [],
   "source": [
    "import weaviate\n",
    "from weaviate.classes.config import Property, DataType, Tokenization, Configure\n",
    "from weaviate.classes.query import MetadataQuery, Filter\n",
    "import os"
   ]
  },
  {
   "cell_type": "code",
   "execution_count": 2,
   "metadata": {},
   "outputs": [],
   "source": [
    "client = weaviate.connect_to_local()"
   ]
  },
  {
   "cell_type": "code",
   "execution_count": 3,
   "metadata": {},
   "outputs": [
    {
     "name": "stdout",
     "output_type": "stream",
     "text": [
      "text_word Tokenization.WORD\n",
      "text_lowercase Tokenization.LOWERCASE\n",
      "text_whitespace Tokenization.WHITESPACE\n",
      "text_field Tokenization.FIELD\n"
     ]
    }
   ],
   "source": [
    "tkn_options = [\n",
    "    Tokenization.WORD,\n",
    "    Tokenization.LOWERCASE,\n",
    "    Tokenization.WHITESPACE,\n",
    "    Tokenization.FIELD,\n",
    "]\n",
    "\n",
    "properties = [\n",
    "    Property(\n",
    "        name=f\"text_{tokenization}\",\n",
    "        data_type=DataType.TEXT,\n",
    "        tokenization=tokenization\n",
    "    ) for tokenization in tkn_options\n",
    "]\n",
    "\n",
    "for p in properties:\n",
    "    print(p.name, p.tokenization)"
   ]
  },
  {
   "cell_type": "code",
   "execution_count": 4,
   "metadata": {},
   "outputs": [
    {
     "data": {
      "text/plain": [
       "['text_word', 'text_lowercase', 'text_whitespace', 'text_field']"
      ]
     },
     "execution_count": 4,
     "metadata": {},
     "output_type": "execute_result"
    }
   ],
   "source": [
    "property_names = [p.name for p in properties]\n",
    "property_names"
   ]
  },
  {
   "cell_type": "code",
   "execution_count": 5,
   "metadata": {},
   "outputs": [],
   "source": [
    "client.collections.delete(\"TokenExample\")\n",
    "\n",
    "collection = client.collections.create(\n",
    "    name=\"TokenExample\",\n",
    "    properties=properties,\n",
    "    vectorizer_config=Configure.Vectorizer.text2vec_transformers()\n",
    ")"
   ]
  },
  {
   "cell_type": "code",
   "execution_count": 6,
   "metadata": {},
   "outputs": [
    {
     "name": "stdout",
     "output_type": "stream",
     "text": [
      "{'text_word': 'Lois & Clark: The New Adventures of Superman', 'text_lowercase': 'Lois & Clark: The New Adventures of Superman', 'text_whitespace': 'Lois & Clark: The New Adventures of Superman', 'text_field': 'Lois & Clark: The New Adventures of Superman'}\n",
      "{'text_word': 'Beyoncé - Single Ladies (Put a Ring on It)', 'text_lowercase': 'Beyoncé - Single Ladies (Put a Ring on It)', 'text_whitespace': 'Beyoncé - Single Ladies (Put a Ring on It)', 'text_field': 'Beyoncé - Single Ladies (Put a Ring on It)'}\n",
      "{'text_word': '15-30', 'text_lowercase': '15-30', 'text_whitespace': '15-30', 'text_field': '15-30'}\n",
      "{'text_word': '30-15', 'text_lowercase': '30-15', 'text_whitespace': '30-15', 'text_field': '30-15'}\n"
     ]
    }
   ],
   "source": [
    "for phrase in [\n",
    "    \"Lois & Clark: The New Adventures of Superman\",\n",
    "    \"Beyoncé - Single Ladies (Put a Ring on It)\",\n",
    "    \"15-30\",\n",
    "    \"30-15\",\n",
    "]:\n",
    "    obj_properties = {name: phrase for name in property_names}\n",
    "    print(obj_properties)\n",
    "    collection.data.insert(\n",
    "        properties=obj_properties\n",
    "    )"
   ]
  },
  {
   "cell_type": "code",
   "execution_count": 7,
   "metadata": {},
   "outputs": [
    {
     "name": "stdout",
     "output_type": "stream",
     "text": [
      "\n",
      "Hits for: 'Lois'\n",
      "'Lois & Clark: The New Adventures of Superman' found in text_word\n",
      "'Lois & Clark: The New Adventures of Superman' found in text_lowercase\n",
      "'Lois & Clark: The New Adventures of Superman' found in text_whitespace\n",
      "\n",
      "Hits for: 'Lois & Clark'\n",
      "'Lois & Clark: The New Adventures of Superman' found in text_word\n",
      "\n",
      "Hits for: 'lois, clark - new'\n",
      "'Lois & Clark: The New Adventures of Superman' found in text_word\n",
      "\n",
      "Hits for: 'ladies put'\n",
      "'Beyoncé - Single Ladies (Put a Ring on It)' found in text_word\n",
      "\n",
      "Hits for: 'Ladies (Put'\n",
      "'Beyoncé - Single Ladies (Put a Ring on It)' found in text_word\n",
      "'Beyoncé - Single Ladies (Put a Ring on It)' found in text_lowercase\n",
      "'Beyoncé - Single Ladies (Put a Ring on It)' found in text_whitespace\n",
      "\n",
      "Hits for: '15-30'\n",
      "'15-30' found in text_word\n",
      "'30-15' found in text_word\n",
      "'15-30' found in text_lowercase\n",
      "'15-30' found in text_whitespace\n",
      "'15-30' found in text_field\n",
      "\n",
      "Hits for: '15'\n",
      "'15-30' found in text_word\n",
      "'30-15' found in text_word\n"
     ]
    }
   ],
   "source": [
    "query_terms = [\"Lois\", \"Lois & Clark\", \"lois, clark - new\", \"ladies put\", \"Ladies (Put\", \"15-30\", \"15\"]\n",
    "for query_term in query_terms:\n",
    "    print(f\"\\nHits for: '{query_term}'\")\n",
    "    for name in property_names:\n",
    "        response = collection.query.fetch_objects(\n",
    "            filters=Filter.by_property(name).like(query_term),\n",
    "            limit=5\n",
    "        )\n",
    "        if len(response.objects) > 0:\n",
    "            for obj in response.objects:\n",
    "                print(f\"'{obj.properties[name]}' found in {name}\")"
   ]
  },
  {
   "cell_type": "code",
   "execution_count": null,
   "metadata": {},
   "outputs": [],
   "source": []
  }
 ],
 "metadata": {
  "kernelspec": {
   "display_name": ".venv",
   "language": "python",
   "name": "python3"
  },
  "language_info": {
   "codemirror_mode": {
    "name": "ipython",
    "version": 3
   },
   "file_extension": ".py",
   "mimetype": "text/x-python",
   "name": "python",
   "nbconvert_exporter": "python",
   "pygments_lexer": "ipython3",
   "version": "3.10.12"
  }
 },
 "nbformat": 4,
 "nbformat_minor": 2
}
